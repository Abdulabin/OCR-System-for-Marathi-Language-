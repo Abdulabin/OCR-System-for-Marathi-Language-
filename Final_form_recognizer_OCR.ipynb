{
 "cells": [
  {
   "cell_type": "markdown",
   "id": "26373685",
   "metadata": {},
   "source": [
    "# PDF Extraction"
   ]
  },
  {
   "cell_type": "code",
   "execution_count": 31,
   "id": "5fe2360b",
   "metadata": {},
   "outputs": [],
   "source": [
    "import PyPDF2\n",
    "import os\n",
    "\n",
    "# Input PDF file (change this to the path of your PDF)\n",
    "input_pdf_path = r\"C:\\Users\\abdul\\Downloads\\form_rec\\1.Data 01_50000.pdf\"\n",
    "# Output directory for the split PDFs\n",
    "output_directory = r\"C:\\Users\\abdul\\Downloads\\form_rec\\output_pdfs\"\n",
    "# Open the input PDF file\n",
    "# Ensure the output directory exists, or create it\n",
    "\n",
    "if not os.path.exists(output_directory):\n",
    "    os.makedirs(output_directory)\n",
    "\n",
    "# Open the input PDF file\n",
    "with open(input_pdf_path, \"rb\") as pdf_file:\n",
    "    pdf_reader = PyPDF2.PdfReader(pdf_file)\n",
    "\n",
    "    # Split the PDF into multiple files\n",
    "    page_count = len(pdf_reader.pages)\n",
    "    for i in range(0, page_count, 2):\n",
    "        pdf_writer = PyPDF2.PdfWriter()\n",
    "        for j in range(2):\n",
    "            page_num = i + j\n",
    "            if page_num < page_count:\n",
    "                page = pdf_reader.pages[page_num]\n",
    "                pdf_writer.add_page(page)\n",
    "\n",
    "        # Output PDF file name (e.g., output_1.pdf, output_2.pdf, etc.)\n",
    "        output_pdf_path = os.path.join(output_directory, f\"output_{i // 2 + 1}.pdf\")\n",
    "\n",
    "        # Write the split PDF to the output file\n",
    "        with open(output_pdf_path, \"wb\") as output_pdf_file:\n",
    "            pdf_writer.write(output_pdf_file)"
   ]
  },
  {
   "cell_type": "markdown",
   "id": "5c2dbb35",
   "metadata": {},
   "source": [
    "# OCR"
   ]
  },
  {
   "cell_type": "code",
   "execution_count": 24,
   "id": "0e3f9c8f",
   "metadata": {},
   "outputs": [],
   "source": [
    "endpoint = \"Enter your Azure Endpoint\"\n",
    "api_key = \"Enter your API KEY \""
   ]
  },
  {
   "cell_type": "code",
   "execution_count": 25,
   "id": "94ed113f",
   "metadata": {},
   "outputs": [],
   "source": [
    "import os\n",
    "import pandas as pd\n",
    "import json\n",
    "from azure.ai.formrecognizer import DocumentAnalysisClient\n",
    "from azure.core.credentials import AzureKeyCredential\n",
    "# Create a Document Analysis client\n",
    "document_analysis_client = DocumentAnalysisClient(endpoint, AzureKeyCredential(api_key))"
   ]
  },
  {
   "cell_type": "code",
   "execution_count": 32,
   "id": "af5ee093",
   "metadata": {},
   "outputs": [],
   "source": [
    "df=pd.DataFrame()\n",
    "lenfiles=len(list(os.listdir(r\"C:\\Users\\abdul\\Downloads\\form_rec\\output_pdfs\")))"
   ]
  },
  {
   "cell_type": "code",
   "execution_count": 27,
   "id": "f0218fba",
   "metadata": {},
   "outputs": [],
   "source": [
    "for n in range(lenfiles):\n",
    "    # Replace with your Azure Form Recognizer endpoint and API key\n",
    "    pdf_file_path = fr\"C:\\Users\\abdul\\Downloads\\form_rec\\output_pdfs\\output_{n}.pdf\"\n",
    "    json_file_path = fr\"C:\\Users\\abdul\\Downloads\\form_rec\\output_json\\outputjson_{n}.json\"\n",
    "    # Begin the analysis using the \"General document\" model\n",
    "    with open(pdf_file_path, \"rb\") as pdf_file:\n",
    "        poller = document_analysis_client.begin_analyze_document(\"prebuilt-document\", document=pdf_file)\n",
    "        result = poller.result()\n",
    "\n",
    "    # Convert the document analysis result to a dictionary\n",
    "    result_dict = result.to_dict()\n",
    "    # Specify the path where you want to save the JSON file\n",
    "\n",
    "    # Save the JSON data to the file\n",
    "    with open(json_file_path, 'w', encoding='utf-8') as output_file:\n",
    "        json.dump(result_dict, output_file, ensure_ascii=False, indent=2)\n",
    "    # Open JSON file from local\n",
    "    with open(json_file_path, 'r', encoding='utf-8') as json_file:\n",
    "        data = json.load(json_file)\n",
    "    table_data = []\n",
    "    for table in data[\"tables\"]:\n",
    "        for cell in table[\"cells\"]:\n",
    "            content = cell[\"content\"]\n",
    "            table_data.append(content)\n",
    "    num_columns = data[\"tables\"][0][\"column_count\"]\n",
    "\n",
    "    # Split the data into rows and columns\n",
    "    table_rows = [table_data[i:i + num_columns] for i in range(0, len(table_data), num_columns)]\n",
    "\n",
    "    # Create a DataFrame\n",
    "    df1= pd.DataFrame(table_rows, columns=[f\"Column_{i+1}\" for i in range(num_columns)])\n",
    "    df=pd.concat([df,df1])\n",
    "    if n==3:\n",
    "        print(\"Done \",{n})\n",
    "        break"
   ]
  },
  {
   "cell_type": "code",
   "execution_count": 29,
   "id": "6efa3273",
   "metadata": {},
   "outputs": [],
   "source": [
    "df.columns=['Sr.no','Suchna','date',\"Name\",'place','phone',\"Notice\"]\n",
    "# df.to_excel(r\"C:\\Users\\abdul\\Downloads\\form_rec\\Extracted_Data.xlsx\",index=False)"
   ]
  },
  {
   "cell_type": "code",
   "execution_count": 35,
   "id": "68addb96",
   "metadata": {},
   "outputs": [
    {
     "data": {
      "text/html": [
       "<div>\n",
       "<style scoped>\n",
       "    .dataframe tbody tr th:only-of-type {\n",
       "        vertical-align: middle;\n",
       "    }\n",
       "\n",
       "    .dataframe tbody tr th {\n",
       "        vertical-align: top;\n",
       "    }\n",
       "\n",
       "    .dataframe thead th {\n",
       "        text-align: right;\n",
       "    }\n",
       "</style>\n",
       "<table border=\"1\" class=\"dataframe\">\n",
       "  <thead>\n",
       "    <tr style=\"text-align: right;\">\n",
       "      <th></th>\n",
       "    </tr>\n",
       "  </thead>\n",
       "  <tbody>\n",
       "  </tbody>\n",
       "</table>\n",
       "</div>"
      ],
      "text/plain": [
       "Empty DataFrame\n",
       "Columns: []\n",
       "Index: []"
      ]
     },
     "execution_count": 35,
     "metadata": {},
     "output_type": "execute_result"
    }
   ],
   "source": [
    "df"
   ]
  },
  {
   "cell_type": "code",
   "execution_count": null,
   "id": "5541529c",
   "metadata": {},
   "outputs": [],
   "source": []
  },
  {
   "cell_type": "code",
   "execution_count": null,
   "id": "f69fdc03",
   "metadata": {},
   "outputs": [],
   "source": []
  },
  {
   "cell_type": "code",
   "execution_count": null,
   "id": "a74b4616",
   "metadata": {},
   "outputs": [],
   "source": []
  },
  {
   "cell_type": "code",
   "execution_count": null,
   "id": "c5ea5ffd",
   "metadata": {},
   "outputs": [],
   "source": []
  },
  {
   "cell_type": "code",
   "execution_count": null,
   "id": "ec977242",
   "metadata": {},
   "outputs": [],
   "source": []
  }
 ],
 "metadata": {
  "kernelspec": {
   "display_name": "Python 3 (ipykernel)",
   "language": "python",
   "name": "python3"
  },
  "language_info": {
   "codemirror_mode": {
    "name": "ipython",
    "version": 3
   },
   "file_extension": ".py",
   "mimetype": "text/x-python",
   "name": "python",
   "nbconvert_exporter": "python",
   "pygments_lexer": "ipython3",
   "version": "3.9.18"
  }
 },
 "nbformat": 4,
 "nbformat_minor": 5
}
